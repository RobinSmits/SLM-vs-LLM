{
 "cells": [
  {
   "cell_type": "markdown",
   "id": "190f7556",
   "metadata": {},
   "source": [
    "# Introduction"
   ]
  },
  {
   "cell_type": "code",
   "execution_count": 1,
   "id": "99f86683",
   "metadata": {},
   "outputs": [],
   "source": [
    "# Import Modules\n",
    "import instructor\n",
    "from collections import Counter\n",
    "from datasets import load_dataset\n",
    "from openai import OpenAI\n",
    "from pprint import pprint\n",
    "from pydantic import BaseModel, Field\n",
    "from tqdm.notebook import tqdm\n",
    "from typing import Literal"
   ]
  },
  {
   "cell_type": "markdown",
   "id": "e4fef8bd",
   "metadata": {},
   "source": [
    "## Dataset and Labels"
   ]
  },
  {
   "cell_type": "code",
   "execution_count": 2,
   "id": "d7af364a",
   "metadata": {},
   "outputs": [
    {
     "name": "stdout",
     "output_type": "stream",
     "text": [
      "Train size: 120000\n",
      "Test size: 7600\n"
     ]
    }
   ],
   "source": [
    "# Load AG News dataset\n",
    "dataset = load_dataset(\"ag_news\")\n",
    "\n",
    "# Convert to Pandas DataFrame\n",
    "df_train = dataset[\"train\"].to_pandas()\n",
    "df_test = dataset[\"test\"].to_pandas()\n",
    "\n",
    "# Class Labels\n",
    "class_names = ['World', 'Sports', 'Business', 'Sci/Tech']\n",
    "df_train['label_name'] = df_train['label'].apply(lambda x: class_names[x])\n",
    "df_test['label_name'] = df_test['label'].apply(lambda x: class_names[x])\n",
    "\n",
    "# Dataset Sizes\n",
    "print(\"Train size:\", len(df_train))\n",
    "print(\"Test size:\", len(df_test))"
   ]
  },
  {
   "cell_type": "markdown",
   "id": "50e36b42",
   "metadata": {},
   "source": [
    "## Setup Instructor and LLM"
   ]
  },
  {
   "cell_type": "code",
   "execution_count": 3,
   "id": "8f44c369",
   "metadata": {},
   "outputs": [],
   "source": [
    "# Specify Structured Output\n",
    "# Only allow Class Names for AG News Subset. Only allow a single value from the fixed set\n",
    "class Category(BaseModel):\n",
    "    category: Literal['World', 'Sports', 'Business', 'Sci/Tech'] = Field(\n",
    "        ...,\n",
    "        description = \"Choose exactly one category of: 'World', 'Sports', 'Business' or 'Sci/Tech'\"\n",
    "    )"
   ]
  },
  {
   "cell_type": "code",
   "execution_count": 4,
   "id": "6b9275c0",
   "metadata": {},
   "outputs": [],
   "source": [
    "# Create Client\n",
    "client = instructor.from_openai(OpenAI(base_url = \"http://localhost:11434/v1\", api_key = \"ollama\"), mode = instructor.Mode.JSON)"
   ]
  },
  {
   "cell_type": "markdown",
   "id": "a2909b19",
   "metadata": {},
   "source": [
    "## Classify AG News Subset"
   ]
  },
  {
   "cell_type": "code",
   "execution_count": 5,
   "id": "f8cfeee2",
   "metadata": {},
   "outputs": [],
   "source": [
    "# Subsample\n",
    "df_test = df_test.sample(n = 1000)"
   ]
  },
  {
   "cell_type": "code",
   "execution_count": 6,
   "id": "ae39359d",
   "metadata": {},
   "outputs": [
    {
     "name": "stdout",
     "output_type": "stream",
     "text": [
      "Category: World\n",
      "News Article: Kerry touts job-creation plans (AFP) AFP - Democratic White House hopeful John Kerry promised to help boost US job growth and take a harder line on alleged abuses by China as he touted his economic plan.\n",
      "\n",
      "Category: Sports\n",
      "News Article: Smit lauds Boks resolve South Africa skipper John Smit paid tribute to his team #39;s resilience after the 23-19 victory over Australia, which won them the 2004 Tri-Nations.\n",
      "\n",
      "Category: Business\n",
      "News Article: Dollar Rises; Traders Drop Bets Currency to Reach One-Month Low Aug. 20 (Bloomberg) -- The dollar climbed against the euro after some traders abandoned bets that a slowdown in growth reflected in economic reports this week would push the US currency to a one-month low. \n",
      "\n",
      "Category: Sci/Tech\n",
      "News Article: Separate Genes Responsible for Drinking, Alcoholism By Randy Dotinga, HealthDay Reporter    HealthDayNews -- Some people can drink a lot of alcohol without becoming addicted, and specific genes may help explain why, researchers say.    In a new study of Australian twins, scientists found that separate genes appear to be responsible, to some degree, for dependence on alcohol -- addiction -- and how much people drink...\n"
     ]
    }
   ],
   "source": [
    "# In Context Examples - 1 per category\n",
    "SEED = 7\n",
    "examples = {label: df_train.loc[df_train[\"label_name\"].eq(label), \"text\"].sample(1, random_state=SEED).iloc[0]  for label in class_names}\n",
    "\n",
    "# Format\n",
    "FEWSHOT_TEXT = \"\\n\\n\".join([f\"\"\"Category: {label}\\nNews Article: {examples[label]}\"\"\" for label in class_names])\n",
    "\n",
    "# Summary\n",
    "print(FEWSHOT_TEXT)"
   ]
  },
  {
   "cell_type": "code",
   "execution_count": 7,
   "id": "9eeacdbf",
   "metadata": {},
   "outputs": [],
   "source": [
    "# Create Message\n",
    "def create_message(text):\n",
    "    prompt = f\"\"\"\n",
    "You are a precise news-topic classifier. Choose exactly one category from:\n",
    "World, Sports, Business, Sci/Tech.\n",
    "\n",
    "Here are four labeled examples (one per category):\n",
    "{FEWSHOT_TEXT}\n",
    "\n",
    "Now classify the following news article.\n",
    "\n",
    "News Article:\n",
    "{text}\n",
    "\"\"\"\n",
    "    \n",
    "    message = [{\n",
    "                    \"role\": \"system\", \n",
    "                    \"content\": \"You are a precise news-topic classifier. Classify each article into exactly one of: World, Sports, Business, Sci/Tech. \"\n",
    "               },\n",
    "               {\n",
    "                   \"role\": \"user\", \n",
    "                   \"content\": prompt\n",
    "               }]\n",
    "    \n",
    "    return message"
   ]
  },
  {
   "cell_type": "code",
   "execution_count": 8,
   "id": "039b45d5",
   "metadata": {},
   "outputs": [
    {
     "name": "stdout",
     "output_type": "stream",
     "text": [
      "[{'content': 'You are a precise news-topic classifier. Classify each article '\n",
      "             'into exactly one of: World, Sports, Business, Sci/Tech. ',\n",
      "  'role': 'system'},\n",
      " {'content': '\\n'\n",
      "             'You are a precise news-topic classifier. Choose exactly one '\n",
      "             'category from:\\n'\n",
      "             'World, Sports, Business, Sci/Tech.\\n'\n",
      "             '\\n'\n",
      "             'Here are four labeled examples (one per category):\\n'\n",
      "             'Category: World\\n'\n",
      "             'News Article: Kerry touts job-creation plans (AFP) AFP - '\n",
      "             'Democratic White House hopeful John Kerry promised to help boost '\n",
      "             'US job growth and take a harder line on alleged abuses by China '\n",
      "             'as he touted his economic plan.\\n'\n",
      "             '\\n'\n",
      "             'Category: Sports\\n'\n",
      "             'News Article: Smit lauds Boks resolve South Africa skipper John '\n",
      "             'Smit paid tribute to his team #39;s resilience after the 23-19 '\n",
      "             'victory over Australia, which won them the 2004 Tri-Nations.\\n'\n",
      "             '\\n'\n",
      "             'Category: Business\\n'\n",
      "             'News Article: Dollar Rises; Traders Drop Bets Currency to Reach '\n",
      "             'One-Month Low Aug. 20 (Bloomberg) -- The dollar climbed against '\n",
      "             'the euro after some traders abandoned bets that a slowdown in '\n",
      "             'growth reflected in economic reports this week would push the US '\n",
      "             'currency to a one-month low. \\n'\n",
      "             '\\n'\n",
      "             'Category: Sci/Tech\\n'\n",
      "             'News Article: Separate Genes Responsible for Drinking, '\n",
      "             'Alcoholism By Randy Dotinga, HealthDay Reporter    HealthDayNews '\n",
      "             '-- Some people can drink a lot of alcohol without becoming '\n",
      "             'addicted, and specific genes may help explain why, researchers '\n",
      "             'say.    In a new study of Australian twins, scientists found '\n",
      "             'that separate genes appear to be responsible, to some degree, '\n",
      "             'for dependence on alcohol -- addiction -- and how much people '\n",
      "             'drink...\\n'\n",
      "             '\\n'\n",
      "             'Now classify the following news article.\\n'\n",
      "             '\\n'\n",
      "             'News Article:\\n'\n",
      "             'Wall St. Bears Claw Back Into the Black (Reuters) Reuters - '\n",
      "             \"Short-sellers, Wall Street's dwindling\\\\band of ultra-cynics, \"\n",
      "             'are seeing green again.\\n',\n",
      "  'role': 'user'}]\n"
     ]
    }
   ],
   "source": [
    "# Example\n",
    "pprint(create_message(df_train.iloc[0]['text']))"
   ]
  },
  {
   "cell_type": "code",
   "execution_count": 9,
   "id": "b7d452d5",
   "metadata": {},
   "outputs": [
    {
     "data": {
      "application/vnd.jupyter.widget-view+json": {
       "model_id": "b2a6168b706d4c489a4bd3213642fc7d",
       "version_major": 2,
       "version_minor": 0
      },
      "text/plain": [
       "  0%|          | 0/1000 [00:00<?, ?it/s]"
      ]
     },
     "metadata": {},
     "output_type": "display_data"
    }
   ],
   "source": [
    "# PlaceHolders\n",
    "y_true, y_pred = [], []\n",
    "\n",
    "# Classification Loops\n",
    "for index, row in tqdm(df_test.iterrows(), total = df_test.shape[0]):\n",
    "    # Get Text and GT label\n",
    "    text = row['text']\n",
    "    gt_label = row['label_name']\n",
    "\n",
    "\n",
    "    # Call LLM\n",
    "    response = client.chat.completions.create(model = \"gemma3:12b\",\n",
    "                                              messages = create_message(text),\n",
    "                                              response_model = Category,\n",
    "                                              temperature = 0.01,\n",
    "                                              top_p = 0.98,\n",
    "                                              strict = True,\n",
    "                                              max_retries = 15)\n",
    "\n",
    "    # !! DEBUG Only Print Output\n",
    "    #print(resp.model_dump_json(indent=2))\n",
    "    #print(f\"GT Label: {gt_label}     Model Label: {resp.category}\")\n",
    "\n",
    "    # Store Predictions\n",
    "    y_true.append(gt_label)\n",
    "    y_pred.append(response.category)"
   ]
  },
  {
   "cell_type": "code",
   "execution_count": 10,
   "id": "29529f78",
   "metadata": {},
   "outputs": [
    {
     "name": "stdout",
     "output_type": "stream",
     "text": [
      "\n",
      "Overall accuracy: 83.60%\n",
      "Per-class accuracy:\n",
      "  World   : 90.33% (n=269)\n",
      "  Sports  : 97.07% (n=205)\n",
      "  Business: 87.65% (n=243)\n",
      "  Sci/Tech: 63.96% (n=283)\n"
     ]
    }
   ],
   "source": [
    "# Average and per Class Accuracy\n",
    "total = Counter(y_true)\n",
    "correct = Counter(t for t, p in zip(y_true, y_pred) if t == p)\n",
    "\n",
    "overall_acc = sum(correct.values()) / len(y_true)\n",
    "print(\"\\nOverall accuracy: {:.2%}\".format(overall_acc))\n",
    "\n",
    "print(\"Per-class accuracy:\")\n",
    "for c in class_names:\n",
    "    acc = correct[c] / total[c]\n",
    "    print(f\"  {c:8}: {acc:.2%} (n={total[c]})\")"
   ]
  },
  {
   "cell_type": "markdown",
   "id": "f1392825",
   "metadata": {},
   "source": [
    "## Conclusion\n",
    "\n"
   ]
  }
 ],
 "metadata": {
  "kernelspec": {
   "display_name": "SlmLlm",
   "language": "python",
   "name": "python3"
  },
  "language_info": {
   "codemirror_mode": {
    "name": "ipython",
    "version": 3
   },
   "file_extension": ".py",
   "mimetype": "text/x-python",
   "name": "python",
   "nbconvert_exporter": "python",
   "pygments_lexer": "ipython3",
   "version": "3.11.8"
  }
 },
 "nbformat": 4,
 "nbformat_minor": 5
}
