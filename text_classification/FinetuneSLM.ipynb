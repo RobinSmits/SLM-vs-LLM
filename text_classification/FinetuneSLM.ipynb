{
 "cells": [
  {
   "cell_type": "markdown",
   "id": "09d379cb",
   "metadata": {},
   "source": [
    "# Introduction\n",
    "\n",
    "In this second test notebook we switch from the classic baseline with K-NN to a modern small language model (SLM) for supervised text classification. The SLM model will be supervised finetuned on the AG News Subset training split data and validated on its test split data.\n",
    "\n",
    "We start from HuggingFaceTB/SmolLM2-135M-Instruct, a compact instruction-tuned Transformer model, and wrap it with AutoModelForSequenceClassification to match the label classes. \n",
    "\n",
    "To adapt the model efficiently we apply Parameter Efficient Fine-Tuning (PEFT) with RS-LoRA (r = 64, lora_alpha = 16, lora_dropout = 0.05, targeting all linear layers), train in bfloat16 on GPU, and keep the base weights frozen so only the adapter parameters are updated."
   ]
  },
  {
   "cell_type": "code",
   "execution_count": 12,
   "id": "0d6b1b3b",
   "metadata": {},
   "outputs": [],
   "source": [
    "# Import Modules\n",
    "import evaluate\n",
    "import numpy as np\n",
    "import torch\n",
    "from datasets import load_dataset\n",
    "from peft import (LoraConfig, \n",
    "                  get_peft_model)\n",
    "from transformers import (AutoTokenizer,\n",
    "                          DataCollatorWithPadding,\n",
    "                          TrainingArguments,\n",
    "                          TrainingArguments, \n",
    "                          Trainer,\n",
    "                          AutoModelForSequenceClassification)\n",
    "\n",
    "# Plot\n",
    "import matplotlib.pyplot as plt"
   ]
  },
  {
   "cell_type": "markdown",
   "id": "35fd943a",
   "metadata": {},
   "source": [
    "## Dataset and Labels"
   ]
  },
  {
   "cell_type": "code",
   "execution_count": 2,
   "id": "141248fc",
   "metadata": {},
   "outputs": [
    {
     "data": {
      "text/html": [
       "<div>\n",
       "<style scoped>\n",
       "    .dataframe tbody tr th:only-of-type {\n",
       "        vertical-align: middle;\n",
       "    }\n",
       "\n",
       "    .dataframe tbody tr th {\n",
       "        vertical-align: top;\n",
       "    }\n",
       "\n",
       "    .dataframe thead th {\n",
       "        text-align: right;\n",
       "    }\n",
       "</style>\n",
       "<table border=\"1\" class=\"dataframe\">\n",
       "  <thead>\n",
       "    <tr style=\"text-align: right;\">\n",
       "      <th></th>\n",
       "      <th>text</th>\n",
       "      <th>label</th>\n",
       "    </tr>\n",
       "  </thead>\n",
       "  <tbody>\n",
       "    <tr>\n",
       "      <th>0</th>\n",
       "      <td>Wall St. Bears Claw Back Into the Black (Reute...</td>\n",
       "      <td>2</td>\n",
       "    </tr>\n",
       "    <tr>\n",
       "      <th>1</th>\n",
       "      <td>Carlyle Looks Toward Commercial Aerospace (Reu...</td>\n",
       "      <td>2</td>\n",
       "    </tr>\n",
       "    <tr>\n",
       "      <th>2</th>\n",
       "      <td>Oil and Economy Cloud Stocks' Outlook (Reuters...</td>\n",
       "      <td>2</td>\n",
       "    </tr>\n",
       "    <tr>\n",
       "      <th>3</th>\n",
       "      <td>Iraq Halts Oil Exports from Main Southern Pipe...</td>\n",
       "      <td>2</td>\n",
       "    </tr>\n",
       "    <tr>\n",
       "      <th>4</th>\n",
       "      <td>Oil prices soar to all-time record, posing new...</td>\n",
       "      <td>2</td>\n",
       "    </tr>\n",
       "  </tbody>\n",
       "</table>\n",
       "</div>"
      ],
      "text/plain": [
       "                                                text  label\n",
       "0  Wall St. Bears Claw Back Into the Black (Reute...      2\n",
       "1  Carlyle Looks Toward Commercial Aerospace (Reu...      2\n",
       "2  Oil and Economy Cloud Stocks' Outlook (Reuters...      2\n",
       "3  Iraq Halts Oil Exports from Main Southern Pipe...      2\n",
       "4  Oil prices soar to all-time record, posing new...      2"
      ]
     },
     "execution_count": 2,
     "metadata": {},
     "output_type": "execute_result"
    }
   ],
   "source": [
    "# Load AG News dataset\n",
    "dataset = load_dataset(\"ag_news\")\n",
    "\n",
    "# Convert to Pandas DataFrame\n",
    "df_train = dataset[\"train\"].to_pandas()\n",
    "df_test = dataset[\"test\"].to_pandas()\n",
    "\n",
    "# Summary\n",
    "df_train.head()"
   ]
  },
  {
   "cell_type": "code",
   "execution_count": 3,
   "id": "e655374d",
   "metadata": {},
   "outputs": [
    {
     "name": "stdout",
     "output_type": "stream",
     "text": [
      "Train size: 120000\n",
      "Test size: 7600\n"
     ]
    }
   ],
   "source": [
    "# Class Labels\n",
    "label_names = ['World', 'Sports', 'Business', 'Sci/Tech']\n",
    "df_train['label_name'] = df_train['label'].apply(lambda x: label_names[x])\n",
    "df_test['label_name'] = df_test['label'].apply(lambda x: label_names[x])\n",
    "\n",
    "# Dataset Sizes\n",
    "print(\"Train size:\", len(df_train))\n",
    "print(\"Test size:\", len(df_test))"
   ]
  },
  {
   "cell_type": "markdown",
   "id": "d91a302e",
   "metadata": {},
   "source": [
    "## Tokenizer"
   ]
  },
  {
   "cell_type": "code",
   "execution_count": 4,
   "id": "15f3d860",
   "metadata": {},
   "outputs": [],
   "source": [
    "# Set Base Model Name\n",
    "model_name = \"HuggingFaceTB/SmolLM2-135M-Instruct\""
   ]
  },
  {
   "cell_type": "code",
   "execution_count": 5,
   "id": "25112ca9",
   "metadata": {},
   "outputs": [
    {
     "data": {
      "text/plain": [
       "GPT2TokenizerFast(name_or_path='HuggingFaceTB/SmolLM2-135M-Instruct', vocab_size=49152, model_max_length=8192, is_fast=True, padding_side='right', truncation_side='right', special_tokens={'bos_token': '<|im_start|>', 'eos_token': '<|im_end|>', 'unk_token': '<|endoftext|>', 'pad_token': '<|im_end|>', 'additional_special_tokens': ['<|im_start|>', '<|im_end|>']}, clean_up_tokenization_spaces=False, added_tokens_decoder={\n",
       "\t0: AddedToken(\"<|endoftext|>\", rstrip=False, lstrip=False, single_word=False, normalized=False, special=True),\n",
       "\t1: AddedToken(\"<|im_start|>\", rstrip=False, lstrip=False, single_word=False, normalized=False, special=True),\n",
       "\t2: AddedToken(\"<|im_end|>\", rstrip=False, lstrip=False, single_word=False, normalized=False, special=True),\n",
       "\t3: AddedToken(\"<repo_name>\", rstrip=False, lstrip=False, single_word=False, normalized=False, special=True),\n",
       "\t4: AddedToken(\"<reponame>\", rstrip=False, lstrip=False, single_word=False, normalized=False, special=True),\n",
       "\t5: AddedToken(\"<file_sep>\", rstrip=False, lstrip=False, single_word=False, normalized=False, special=True),\n",
       "\t6: AddedToken(\"<filename>\", rstrip=False, lstrip=False, single_word=False, normalized=False, special=True),\n",
       "\t7: AddedToken(\"<gh_stars>\", rstrip=False, lstrip=False, single_word=False, normalized=False, special=True),\n",
       "\t8: AddedToken(\"<issue_start>\", rstrip=False, lstrip=False, single_word=False, normalized=False, special=True),\n",
       "\t9: AddedToken(\"<issue_comment>\", rstrip=False, lstrip=False, single_word=False, normalized=False, special=True),\n",
       "\t10: AddedToken(\"<issue_closed>\", rstrip=False, lstrip=False, single_word=False, normalized=False, special=True),\n",
       "\t11: AddedToken(\"<jupyter_start>\", rstrip=False, lstrip=False, single_word=False, normalized=False, special=True),\n",
       "\t12: AddedToken(\"<jupyter_text>\", rstrip=False, lstrip=False, single_word=False, normalized=False, special=True),\n",
       "\t13: AddedToken(\"<jupyter_code>\", rstrip=False, lstrip=False, single_word=False, normalized=False, special=True),\n",
       "\t14: AddedToken(\"<jupyter_output>\", rstrip=False, lstrip=False, single_word=False, normalized=False, special=True),\n",
       "\t15: AddedToken(\"<jupyter_script>\", rstrip=False, lstrip=False, single_word=False, normalized=False, special=True),\n",
       "\t16: AddedToken(\"<empty_output>\", rstrip=False, lstrip=False, single_word=False, normalized=False, special=True),\n",
       "}\n",
       ")"
      ]
     },
     "execution_count": 5,
     "metadata": {},
     "output_type": "execute_result"
    }
   ],
   "source": [
    "# Set Tokenizer\n",
    "tokenizer = AutoTokenizer.from_pretrained(model_name,\n",
    "                                          padding_side = 'right',\n",
    "                                          device_map = 'auto')\n",
    "tokenizer.pad_token = tokenizer.eos_token\n",
    "\n",
    "# Summary\n",
    "tokenizer"
   ]
  },
  {
   "cell_type": "markdown",
   "id": "2a37f3ea",
   "metadata": {},
   "source": [
    "## Preprocess data"
   ]
  },
  {
   "cell_type": "code",
   "execution_count": 6,
   "id": "a07dbfac",
   "metadata": {},
   "outputs": [
    {
     "name": "stdout",
     "output_type": "stream",
     "text": [
      "{0: 'World', 1: 'Sports', 2: 'Business', 3: 'Sci/Tech'}\n"
     ]
    },
    {
     "data": {
      "application/vnd.jupyter.widget-view+json": {
       "model_id": "22b4d333a794495bb171fc5aacceff10",
       "version_major": 2,
       "version_minor": 0
      },
      "text/plain": [
       "Map:   0%|          | 0/120000 [00:00<?, ? examples/s]"
      ]
     },
     "metadata": {},
     "output_type": "display_data"
    },
    {
     "data": {
      "application/vnd.jupyter.widget-view+json": {
       "model_id": "e251333bfb5e44319408f498267f7578",
       "version_major": 2,
       "version_minor": 0
      },
      "text/plain": [
       "Map:   0%|          | 0/7600 [00:00<?, ? examples/s]"
      ]
     },
     "metadata": {},
     "output_type": "display_data"
    },
    {
     "name": "stdout",
     "output_type": "stream",
     "text": [
      "Dataset({\n",
      "    features: ['input_ids', 'attention_mask', 'labels'],\n",
      "    num_rows: 120000\n",
      "})\n",
      "Dataset({\n",
      "    features: ['input_ids', 'attention_mask', 'labels'],\n",
      "    num_rows: 7600\n",
      "})\n"
     ]
    }
   ],
   "source": [
    "# Preprocess Function\n",
    "def preprocess_function(sample):\n",
    "    label = sample['label']\n",
    "    sample = tokenizer(sample['text'], \n",
    "                       truncation = False)\n",
    "    sample['labels'] = label\n",
    "    return sample\n",
    "\n",
    "# Class and Id Summary\n",
    "class2id = {'World': 0, 'Sports': 1, 'Business': 2, 'Sci/Tech': 3}\n",
    "id2class = {v: k for k, v in class2id.items()}\n",
    "print(id2class)\n",
    "\n",
    "# Proces Datasets\n",
    "train_dataset = dataset[\"train\"].map(preprocess_function).select_columns(['input_ids', 'attention_mask', 'labels'])\n",
    "test_dataset = dataset[\"test\"].map(preprocess_function).select_columns(['input_ids', 'attention_mask', 'labels'])\n",
    "\n",
    "# Summary\n",
    "print(train_dataset)\n",
    "print(test_dataset)"
   ]
  },
  {
   "cell_type": "markdown",
   "id": "00a689f8",
   "metadata": {},
   "source": [
    "## Create LoRa Sequence Classification Model"
   ]
  },
  {
   "cell_type": "code",
   "execution_count": 7,
   "id": "baead510",
   "metadata": {},
   "outputs": [
    {
     "name": "stderr",
     "output_type": "stream",
     "text": [
      "Some weights of LlamaForSequenceClassification were not initialized from the model checkpoint at HuggingFaceTB/SmolLM2-135M-Instruct and are newly initialized: ['score.weight']\n",
      "You should probably TRAIN this model on a down-stream task to be able to use it for predictions and inference.\n"
     ]
    },
    {
     "data": {
      "text/plain": [
       "LlamaForSequenceClassification(\n",
       "  (model): LlamaModel(\n",
       "    (embed_tokens): Embedding(49152, 576, padding_idx=2)\n",
       "    (layers): ModuleList(\n",
       "      (0-29): 30 x LlamaDecoderLayer(\n",
       "        (self_attn): LlamaAttention(\n",
       "          (q_proj): Linear(in_features=576, out_features=576, bias=False)\n",
       "          (k_proj): Linear(in_features=576, out_features=192, bias=False)\n",
       "          (v_proj): Linear(in_features=576, out_features=192, bias=False)\n",
       "          (o_proj): Linear(in_features=576, out_features=576, bias=False)\n",
       "        )\n",
       "        (mlp): LlamaMLP(\n",
       "          (gate_proj): Linear(in_features=576, out_features=1536, bias=False)\n",
       "          (up_proj): Linear(in_features=576, out_features=1536, bias=False)\n",
       "          (down_proj): Linear(in_features=1536, out_features=576, bias=False)\n",
       "          (act_fn): SiLU()\n",
       "        )\n",
       "        (input_layernorm): LlamaRMSNorm((576,), eps=1e-05)\n",
       "        (post_attention_layernorm): LlamaRMSNorm((576,), eps=1e-05)\n",
       "      )\n",
       "    )\n",
       "    (norm): LlamaRMSNorm((576,), eps=1e-05)\n",
       "    (rotary_emb): LlamaRotaryEmbedding()\n",
       "  )\n",
       "  (score): Linear(in_features=576, out_features=4, bias=False)\n",
       ")"
      ]
     },
     "execution_count": 7,
     "metadata": {},
     "output_type": "execute_result"
    }
   ],
   "source": [
    "# Create Model\n",
    "model = AutoModelForSequenceClassification.from_pretrained(model_name, \n",
    "                                                           dtype = torch.bfloat16,\n",
    "                                                           num_labels = len(class2id.keys())).cuda()\n",
    "model.use_cache = False\n",
    "\n",
    "# Summary\n",
    "model"
   ]
  },
  {
   "cell_type": "code",
   "execution_count": 8,
   "id": "f30a9d3d",
   "metadata": {},
   "outputs": [
    {
     "name": "stdout",
     "output_type": "stream",
     "text": [
      "trainable params: 19,540,224 || all params: 154,057,536 || trainable%: 12.6837\n"
     ]
    },
    {
     "data": {
      "text/plain": [
       "PeftModelForSequenceClassification(\n",
       "  (base_model): LoraModel(\n",
       "    (model): LlamaForSequenceClassification(\n",
       "      (model): LlamaModel(\n",
       "        (embed_tokens): Embedding(49152, 576, padding_idx=2)\n",
       "        (layers): ModuleList(\n",
       "          (0-29): 30 x LlamaDecoderLayer(\n",
       "            (self_attn): LlamaAttention(\n",
       "              (q_proj): lora.Linear(\n",
       "                (base_layer): Linear(in_features=576, out_features=576, bias=False)\n",
       "                (lora_dropout): ModuleDict(\n",
       "                  (default): Dropout(p=0.05, inplace=False)\n",
       "                )\n",
       "                (lora_A): ModuleDict(\n",
       "                  (default): Linear(in_features=576, out_features=64, bias=False)\n",
       "                )\n",
       "                (lora_B): ModuleDict(\n",
       "                  (default): Linear(in_features=64, out_features=576, bias=False)\n",
       "                )\n",
       "                (lora_embedding_A): ParameterDict()\n",
       "                (lora_embedding_B): ParameterDict()\n",
       "                (lora_magnitude_vector): ModuleDict()\n",
       "              )\n",
       "              (k_proj): lora.Linear(\n",
       "                (base_layer): Linear(in_features=576, out_features=192, bias=False)\n",
       "                (lora_dropout): ModuleDict(\n",
       "                  (default): Dropout(p=0.05, inplace=False)\n",
       "                )\n",
       "                (lora_A): ModuleDict(\n",
       "                  (default): Linear(in_features=576, out_features=64, bias=False)\n",
       "                )\n",
       "                (lora_B): ModuleDict(\n",
       "                  (default): Linear(in_features=64, out_features=192, bias=False)\n",
       "                )\n",
       "                (lora_embedding_A): ParameterDict()\n",
       "                (lora_embedding_B): ParameterDict()\n",
       "                (lora_magnitude_vector): ModuleDict()\n",
       "              )\n",
       "              (v_proj): lora.Linear(\n",
       "                (base_layer): Linear(in_features=576, out_features=192, bias=False)\n",
       "                (lora_dropout): ModuleDict(\n",
       "                  (default): Dropout(p=0.05, inplace=False)\n",
       "                )\n",
       "                (lora_A): ModuleDict(\n",
       "                  (default): Linear(in_features=576, out_features=64, bias=False)\n",
       "                )\n",
       "                (lora_B): ModuleDict(\n",
       "                  (default): Linear(in_features=64, out_features=192, bias=False)\n",
       "                )\n",
       "                (lora_embedding_A): ParameterDict()\n",
       "                (lora_embedding_B): ParameterDict()\n",
       "                (lora_magnitude_vector): ModuleDict()\n",
       "              )\n",
       "              (o_proj): lora.Linear(\n",
       "                (base_layer): Linear(in_features=576, out_features=576, bias=False)\n",
       "                (lora_dropout): ModuleDict(\n",
       "                  (default): Dropout(p=0.05, inplace=False)\n",
       "                )\n",
       "                (lora_A): ModuleDict(\n",
       "                  (default): Linear(in_features=576, out_features=64, bias=False)\n",
       "                )\n",
       "                (lora_B): ModuleDict(\n",
       "                  (default): Linear(in_features=64, out_features=576, bias=False)\n",
       "                )\n",
       "                (lora_embedding_A): ParameterDict()\n",
       "                (lora_embedding_B): ParameterDict()\n",
       "                (lora_magnitude_vector): ModuleDict()\n",
       "              )\n",
       "            )\n",
       "            (mlp): LlamaMLP(\n",
       "              (gate_proj): lora.Linear(\n",
       "                (base_layer): Linear(in_features=576, out_features=1536, bias=False)\n",
       "                (lora_dropout): ModuleDict(\n",
       "                  (default): Dropout(p=0.05, inplace=False)\n",
       "                )\n",
       "                (lora_A): ModuleDict(\n",
       "                  (default): Linear(in_features=576, out_features=64, bias=False)\n",
       "                )\n",
       "                (lora_B): ModuleDict(\n",
       "                  (default): Linear(in_features=64, out_features=1536, bias=False)\n",
       "                )\n",
       "                (lora_embedding_A): ParameterDict()\n",
       "                (lora_embedding_B): ParameterDict()\n",
       "                (lora_magnitude_vector): ModuleDict()\n",
       "              )\n",
       "              (up_proj): lora.Linear(\n",
       "                (base_layer): Linear(in_features=576, out_features=1536, bias=False)\n",
       "                (lora_dropout): ModuleDict(\n",
       "                  (default): Dropout(p=0.05, inplace=False)\n",
       "                )\n",
       "                (lora_A): ModuleDict(\n",
       "                  (default): Linear(in_features=576, out_features=64, bias=False)\n",
       "                )\n",
       "                (lora_B): ModuleDict(\n",
       "                  (default): Linear(in_features=64, out_features=1536, bias=False)\n",
       "                )\n",
       "                (lora_embedding_A): ParameterDict()\n",
       "                (lora_embedding_B): ParameterDict()\n",
       "                (lora_magnitude_vector): ModuleDict()\n",
       "              )\n",
       "              (down_proj): lora.Linear(\n",
       "                (base_layer): Linear(in_features=1536, out_features=576, bias=False)\n",
       "                (lora_dropout): ModuleDict(\n",
       "                  (default): Dropout(p=0.05, inplace=False)\n",
       "                )\n",
       "                (lora_A): ModuleDict(\n",
       "                  (default): Linear(in_features=1536, out_features=64, bias=False)\n",
       "                )\n",
       "                (lora_B): ModuleDict(\n",
       "                  (default): Linear(in_features=64, out_features=576, bias=False)\n",
       "                )\n",
       "                (lora_embedding_A): ParameterDict()\n",
       "                (lora_embedding_B): ParameterDict()\n",
       "                (lora_magnitude_vector): ModuleDict()\n",
       "              )\n",
       "              (act_fn): SiLU()\n",
       "            )\n",
       "            (input_layernorm): LlamaRMSNorm((576,), eps=1e-05)\n",
       "            (post_attention_layernorm): LlamaRMSNorm((576,), eps=1e-05)\n",
       "          )\n",
       "        )\n",
       "        (norm): LlamaRMSNorm((576,), eps=1e-05)\n",
       "        (rotary_emb): LlamaRotaryEmbedding()\n",
       "      )\n",
       "      (score): ModulesToSaveWrapper(\n",
       "        (original_module): Linear(in_features=576, out_features=4, bias=False)\n",
       "        (modules_to_save): ModuleDict(\n",
       "          (default): Linear(in_features=576, out_features=4, bias=False)\n",
       "        )\n",
       "      )\n",
       "    )\n",
       "  )\n",
       ")"
      ]
     },
     "execution_count": 8,
     "metadata": {},
     "output_type": "execute_result"
    }
   ],
   "source": [
    "# Create LoraConfig\n",
    "lora_config = LoraConfig(r = 64,\n",
    "                         lora_alpha = 16,\n",
    "                         target_modules = 'all-linear',\n",
    "                         lora_dropout = 0.05,\n",
    "                         use_rslora = True,\n",
    "                         bias = \"none\",\n",
    "                         task_type = \"SEQ_CLS\")\n",
    "\n",
    "# Create Peft Model\n",
    "model = get_peft_model(model, lora_config)\n",
    "\n",
    "# LoRA Parameters\n",
    "model.print_trainable_parameters()\n",
    "\n",
    "# Summary\n",
    "model"
   ]
  },
  {
   "cell_type": "markdown",
   "id": "dbf162b1",
   "metadata": {},
   "source": [
    "# Prepare Evaluation"
   ]
  },
  {
   "cell_type": "code",
   "execution_count": 9,
   "id": "48fc6721",
   "metadata": {},
   "outputs": [],
   "source": [
    "# Setup Metrics and Evaluation\n",
    "acc_metric = evaluate.load(\"accuracy\")\n",
    "prec_metric = evaluate.load(\"precision\")\n",
    "rec_metric = evaluate.load(\"recall\")\n",
    "f1_metric = evaluate.load(\"f1\")\n",
    "\n",
    "def compute_metrics(eval_pred):\n",
    "    logits, labels = eval_pred\n",
    "\n",
    "    # Get Predictions\n",
    "    preds = np.argmax(logits, axis = -1).astype(int)\n",
    "    labels = labels.astype(int)\n",
    "\n",
    "    # Final Results\n",
    "    results = {}\n",
    "    results.update(acc_metric.compute(predictions = preds, references = labels))\n",
    "    results.update(prec_metric.compute(predictions = preds, references = labels, average = \"weighted\"))\n",
    "    results.update(rec_metric.compute(predictions = preds, references = labels, average = \"weighted\"))\n",
    "    results.update(f1_metric.compute(predictions = preds, references = labels, average = \"weighted\"))\n",
    "    return results"
   ]
  },
  {
   "cell_type": "markdown",
   "id": "569b107a",
   "metadata": {},
   "source": [
    "## Train Model"
   ]
  },
  {
   "cell_type": "code",
   "execution_count": 10,
   "id": "0e8e174a",
   "metadata": {},
   "outputs": [
    {
     "name": "stderr",
     "output_type": "stream",
     "text": [
      "`use_cache=True` is incompatible with gradient checkpointing. Setting `use_cache=False`.\n"
     ]
    },
    {
     "data": {
      "text/html": [
       "\n",
       "    <div>\n",
       "      \n",
       "      <progress value='938' max='938' style='width:300px; height:20px; vertical-align: middle;'></progress>\n",
       "      [938/938 1:08:06, Epoch 2/2]\n",
       "    </div>\n",
       "    <table border=\"1\" class=\"dataframe\">\n",
       "  <thead>\n",
       " <tr style=\"text-align: left;\">\n",
       "      <th>Step</th>\n",
       "      <th>Training Loss</th>\n",
       "      <th>Validation Loss</th>\n",
       "      <th>Accuracy</th>\n",
       "      <th>Precision</th>\n",
       "      <th>Recall</th>\n",
       "      <th>F1</th>\n",
       "    </tr>\n",
       "  </thead>\n",
       "  <tbody>\n",
       "    <tr>\n",
       "      <td>128</td>\n",
       "      <td>2.990600</td>\n",
       "      <td>0.238099</td>\n",
       "      <td>0.919605</td>\n",
       "      <td>0.919898</td>\n",
       "      <td>0.919605</td>\n",
       "      <td>0.919345</td>\n",
       "    </tr>\n",
       "    <tr>\n",
       "      <td>256</td>\n",
       "      <td>0.865000</td>\n",
       "      <td>0.204656</td>\n",
       "      <td>0.929868</td>\n",
       "      <td>0.930627</td>\n",
       "      <td>0.929868</td>\n",
       "      <td>0.930029</td>\n",
       "    </tr>\n",
       "    <tr>\n",
       "      <td>384</td>\n",
       "      <td>0.742300</td>\n",
       "      <td>0.191414</td>\n",
       "      <td>0.933421</td>\n",
       "      <td>0.934134</td>\n",
       "      <td>0.933421</td>\n",
       "      <td>0.933616</td>\n",
       "    </tr>\n",
       "    <tr>\n",
       "      <td>512</td>\n",
       "      <td>0.686000</td>\n",
       "      <td>0.178576</td>\n",
       "      <td>0.938421</td>\n",
       "      <td>0.938794</td>\n",
       "      <td>0.938421</td>\n",
       "      <td>0.938514</td>\n",
       "    </tr>\n",
       "    <tr>\n",
       "      <td>640</td>\n",
       "      <td>0.557400</td>\n",
       "      <td>0.176569</td>\n",
       "      <td>0.939737</td>\n",
       "      <td>0.939835</td>\n",
       "      <td>0.939737</td>\n",
       "      <td>0.939754</td>\n",
       "    </tr>\n",
       "    <tr>\n",
       "      <td>768</td>\n",
       "      <td>0.547900</td>\n",
       "      <td>0.170373</td>\n",
       "      <td>0.942763</td>\n",
       "      <td>0.943113</td>\n",
       "      <td>0.942763</td>\n",
       "      <td>0.942864</td>\n",
       "    </tr>\n",
       "    <tr>\n",
       "      <td>896</td>\n",
       "      <td>0.528900</td>\n",
       "      <td>0.167654</td>\n",
       "      <td>0.943816</td>\n",
       "      <td>0.943906</td>\n",
       "      <td>0.943816</td>\n",
       "      <td>0.943801</td>\n",
       "    </tr>\n",
       "  </tbody>\n",
       "</table><p>"
      ],
      "text/plain": [
       "<IPython.core.display.HTML object>"
      ]
     },
     "metadata": {},
     "output_type": "display_data"
    },
    {
     "data": {
      "text/plain": [
       "TrainOutput(global_step=938, training_loss=0.9680488257011625, metrics={'train_runtime': 4091.1426, 'train_samples_per_second': 58.663, 'train_steps_per_second': 0.229, 'total_flos': 2.52224312610816e+16, 'train_loss': 0.9680488257011625, 'epoch': 2.0})"
      ]
     },
     "execution_count": 10,
     "metadata": {},
     "output_type": "execute_result"
    }
   ],
   "source": [
    "# Specify Data Collator\n",
    "data_collator = DataCollatorWithPadding(tokenizer = tokenizer)\n",
    "\n",
    "# Specify TrainingArguments\n",
    "training_arguments = TrainingArguments(num_train_epochs = 2,\n",
    "                                       gradient_checkpointing = True,\n",
    "                                       gradient_checkpointing_kwargs = {'use_reentrant': False},\n",
    "                                       logging_strategy = 'steps',\n",
    "                                       logging_steps = 128,\n",
    "                                       learning_rate = 2.0e-4,\n",
    "                                       per_device_train_batch_size = 64,\n",
    "                                       per_device_eval_batch_size = 64,\n",
    "                                       weight_decay = 0.01,\n",
    "                                       eval_strategy = 'steps', \n",
    "                                       eval_steps = 128,\n",
    "                                       save_strategy = 'steps',\n",
    "                                       save_steps = 128,\n",
    "                                       load_best_model_at_end = True,\n",
    "                                       report_to = 'none',\n",
    "                                       gradient_accumulation_steps = 4,\n",
    "                                       bf16 = True,\n",
    "                                       warmup_ratio = 0.10, \n",
    "                                       metric_for_best_model = 'eval_loss') \n",
    "\n",
    "# Create Trainer\n",
    "trainer = Trainer(model = model, \n",
    "                  args = training_arguments,\n",
    "                  train_dataset = train_dataset,\n",
    "                  eval_dataset = test_dataset,\n",
    "                  data_collator = data_collator, \n",
    "                  compute_metrics = compute_metrics)\n",
    "\n",
    "# Perform Model Training\n",
    "trainer.train()"
   ]
  },
  {
   "cell_type": "markdown",
   "id": "15604594",
   "metadata": {},
   "source": [
    "## Plot average performance per Label"
   ]
  },
  {
   "cell_type": "code",
   "execution_count": 11,
   "id": "bcdc830e",
   "metadata": {},
   "outputs": [
    {
     "data": {
      "text/html": [],
      "text/plain": [
       "<IPython.core.display.HTML object>"
      ]
     },
     "metadata": {},
     "output_type": "display_data"
    },
    {
     "name": "stdout",
     "output_type": "stream",
     "text": [
      "Overall accuracy: 94.38%\n",
      "World: 95.05%\n",
      "Sports: 98.95%\n",
      "Business: 90.37%\n",
      "Sci/Tech: 93.16%\n"
     ]
    },
    {
     "data": {
      "image/png": "[encoded data removed]",
      "text/plain": [
       "<Figure size 1200x750 with 1 Axes>"
      ]
     },
     "metadata": {},
     "output_type": "display_data"
    }
   ],
   "source": [
    "# Predict\n",
    "pred = trainer.predict(test_dataset)\n",
    "y = torch.as_tensor(pred.label_ids).view(-1).long()\n",
    "p = torch.as_tensor(pred.predictions).argmax(-1)\n",
    "\n",
    "# Accuracies\n",
    "overall = (p == y).float().mean().item() * 100\n",
    "acc = (torch.bincount(y, weights=(p == y).float(), minlength = len(label_names)) / torch.bincount(y, minlength = len(label_names))).numpy()\n",
    "acc *= 100\n",
    "\n",
    "# Report\n",
    "print(f\"Overall accuracy: {overall:.2f}%\")\n",
    "for name, a in zip(label_names, acc): print(f\"{name}: {a:.2f}%\")\n",
    "\n",
    "# Bar chart\n",
    "plt.style.use(\"bmh\")\n",
    "plt.figure(figsize = (8, 5), dpi = 150)\n",
    "bars = plt.bar(range(len(label_names)), acc, width = 0.65, edgecolor = \"black\", linewidth = 0.6)\n",
    "plt.xticks(range(len(label_names)), label_names, rotation = 45, ha = \"right\")\n",
    "plt.ylabel(\"Accuracy\", fontsize = 11)\n",
    "plt.title(\"Accuracy per label\", fontsize = 14, weight = \"bold\")\n",
    "plt.grid(axis = \"y\", linestyle = \"--\", alpha = 0.5)\n",
    "\n",
    "# Annotate bars\n",
    "for i, a in enumerate(acc):\n",
    "    plt.text(i, a + 0.02, f\"{a:.2f}%\", ha=\"center\", va=\"bottom\", fontsize=10)\n",
    "\n",
    "# Final Plot\n",
    "plt.tight_layout()\n",
    "plt.show()"
   ]
  },
  {
   "cell_type": "markdown",
   "id": "ce13fa3c",
   "metadata": {},
   "source": [
    "## Conclusion\n",
    "\n",
    "The fine-tuned SLM achieves 94.38% overall accuracy on the AG News dataset, establishing a strong baseline.\n",
    "\n",
    "Per label accuracy ranges from Sports (98.95%) to Business (90.37%) setting a strong performance range for the individual label classes."
   ]
  }
 ],
 "metadata": {
  "kernelspec": {
   "display_name": "SlmLlm",
   "language": "python",
   "name": "python3"
  },
  "language_info": {
   "codemirror_mode": {
    "name": "ipython",
    "version": 3
   },
   "file_extension": ".py",
   "mimetype": "text/x-python",
   "name": "python",
   "nbconvert_exporter": "python",
   "pygments_lexer": "ipython3",
   "version": "3.11.8"
  }
 },
 "nbformat": 4,
 "nbformat_minor": 5
}
