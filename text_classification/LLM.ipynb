{
 "cells": [
  {
   "cell_type": "markdown",
   "id": "190f7556",
   "metadata": {},
   "source": [
    "# Introduction"
   ]
  },
  {
   "cell_type": "code",
   "execution_count": 1,
   "id": "99f86683",
   "metadata": {},
   "outputs": [],
   "source": [
    "# Import Modules\n",
    "import instructor\n",
    "from collections import Counter\n",
    "from datasets import load_dataset\n",
    "from openai import OpenAI\n",
    "from pprint import pprint\n",
    "from pydantic import BaseModel, Field\n",
    "from tqdm.notebook import tqdm\n",
    "from typing import Literal"
   ]
  },
  {
   "cell_type": "markdown",
   "id": "e4fef8bd",
   "metadata": {},
   "source": [
    "## Dataset and Labels"
   ]
  },
  {
   "cell_type": "code",
   "execution_count": 2,
   "id": "d7af364a",
   "metadata": {},
   "outputs": [
    {
     "name": "stdout",
     "output_type": "stream",
     "text": [
      "Train size: 120000\n",
      "Test size: 7600\n"
     ]
    }
   ],
   "source": [
    "# Load AG News dataset\n",
    "dataset = load_dataset(\"ag_news\")\n",
    "\n",
    "# Convert to Pandas DataFrame\n",
    "df_train = dataset[\"train\"].to_pandas()\n",
    "df_test = dataset[\"test\"].to_pandas()\n",
    "\n",
    "# Class Labels\n",
    "class_names = ['World', 'Sports', 'Business', 'Sci/Tech']\n",
    "df_train['label_name'] = df_train['label'].apply(lambda x: class_names[x])\n",
    "df_test['label_name'] = df_test['label'].apply(lambda x: class_names[x])\n",
    "\n",
    "# Dataset Sizes\n",
    "print(\"Train size:\", len(df_train))\n",
    "print(\"Test size:\", len(df_test))"
   ]
  },
  {
   "cell_type": "markdown",
   "id": "50e36b42",
   "metadata": {},
   "source": [
    "## Setup Instructor and LLM"
   ]
  },
  {
   "cell_type": "code",
   "execution_count": 3,
   "id": "8f44c369",
   "metadata": {},
   "outputs": [],
   "source": [
    "# Specify Structured Output\n",
    "# Only allow Class Names for AG News Subset. Only allow a single value from the fixed set\n",
    "class Category(BaseModel):\n",
    "    category: Literal['World', 'Sports', 'Business', 'Sci/Tech'] = Field(\n",
    "        ...,\n",
    "        description = \"Choose exactly one category of: 'World', 'Sports', 'Business' or 'Sci/Tech'\"\n",
    "    )"
   ]
  },
  {
   "cell_type": "code",
   "execution_count": 4,
   "id": "6b9275c0",
   "metadata": {},
   "outputs": [],
   "source": [
    "# Create Client\n",
    "client = instructor.from_openai(OpenAI(base_url = \"http://localhost:11434/v1\", api_key = \"ollama\"), mode = instructor.Mode.JSON)"
   ]
  },
  {
   "cell_type": "markdown",
   "id": "a2909b19",
   "metadata": {},
   "source": [
    "## Classify AG News Subset"
   ]
  },
  {
   "cell_type": "code",
   "execution_count": 5,
   "id": "f8cfeee2",
   "metadata": {},
   "outputs": [],
   "source": [
    "# Subsample\n",
    "#df_test = df_test.sample(n = 1000)"
   ]
  },
  {
   "cell_type": "code",
   "execution_count": 6,
   "id": "ae39359d",
   "metadata": {},
   "outputs": [
    {
     "name": "stdout",
     "output_type": "stream",
     "text": [
      "Category: World\n",
      "News Article: Explosion Rocks Baghdad Neighborhood BAGHDAD, Iraq, August 24 -- A car bomb exploded near the gate of a US-funded Iraqi television network in Baghdad on Tuesday, killing at least two people and wounding two others, authorities and witnesses said.\n",
      "\n",
      "Category: Sports\n",
      "News Article: Second Andre win in a row boosts US gold medal hopes Andre Dirrell, fighting with a tattoo of his grandfather #39;s face on his back, assured the United States of at least two boxing medals Wednesday by narrowly beating Cuba #39;s Yordani Despaigne to advance to the Olympic middleweight semifinals.\n",
      "\n",
      "Category: Business\n",
      "News Article: US house sales fall in July Sales of non-new houses in the US fell last month but still exceeded analyst forecasts.\n",
      "\n",
      "Category: Sci/Tech\n",
      "News Article: Gartner optimistic about chip numbers But that optimism isn #39;t matched by Infineon, which said that while the market worldwide remains buoyant, the US is a special case and cautioned that growth might not be as strong as it expected.\n"
     ]
    }
   ],
   "source": [
    "# In Context Examples - 1 per category\n",
    "SEED = 42\n",
    "examples = {label: df_train.loc[df_train[\"label_name\"].eq(label), \"text\"].sample(1, random_state=SEED).iloc[0]  for label in class_names}\n",
    "\n",
    "# Format\n",
    "fewshot_text = \"\\n\\n\".join([f\"\"\"Category: {label}\\nNews Article: {examples[label]}\"\"\" for label in class_names])\n",
    "\n",
    "# Summary\n",
    "print(fewshot_text)"
   ]
  },
  {
   "cell_type": "code",
   "execution_count": 7,
   "id": "9eeacdbf",
   "metadata": {},
   "outputs": [],
   "source": [
    "# Create Message\n",
    "def create_message(text):\n",
    "    prompt = f\"\"\"\n",
    "You are a precise news-topic classifier. Choose exactly one category from:\n",
    "World, Sports, Business, Sci/Tech.\n",
    "\n",
    "Here are four labeled examples (one per category):\n",
    "{fewshot_text}\n",
    "\n",
    "Now classify the following news article.\n",
    "\n",
    "News Article:\n",
    "{text}\n",
    "\"\"\"\n",
    "    \n",
    "    message = [{\n",
    "                    \"role\": \"system\", \n",
    "                    \"content\": \"You are a precise news-topic classifier. Classify each article into exactly one of: World, Sports, Business, Sci/Tech. \"\n",
    "               },\n",
    "               {\n",
    "                   \"role\": \"user\", \n",
    "                   \"content\": prompt\n",
    "               }]\n",
    "    \n",
    "    return message"
   ]
  },
  {
   "cell_type": "code",
   "execution_count": 8,
   "id": "039b45d5",
   "metadata": {},
   "outputs": [
    {
     "name": "stdout",
     "output_type": "stream",
     "text": [
      "[{'content': 'You are a precise news-topic classifier. Classify each article '\n",
      "             'into exactly one of: World, Sports, Business, Sci/Tech. ',\n",
      "  'role': 'system'},\n",
      " {'content': '\\n'\n",
      "             'You are a precise news-topic classifier. Choose exactly one '\n",
      "             'category from:\\n'\n",
      "             'World, Sports, Business, Sci/Tech.\\n'\n",
      "             '\\n'\n",
      "             'Here are four labeled examples (one per category):\\n'\n",
      "             'Category: World\\n'\n",
      "             'News Article: Explosion Rocks Baghdad Neighborhood BAGHDAD, '\n",
      "             'Iraq, August 24 -- A car bomb exploded near the gate of a '\n",
      "             'US-funded Iraqi television network in Baghdad on Tuesday, '\n",
      "             'killing at least two people and wounding two others, authorities '\n",
      "             'and witnesses said.\\n'\n",
      "             '\\n'\n",
      "             'Category: Sports\\n'\n",
      "             'News Article: Second Andre win in a row boosts US gold medal '\n",
      "             'hopes Andre Dirrell, fighting with a tattoo of his grandfather '\n",
      "             '#39;s face on his back, assured the United States of at least '\n",
      "             'two boxing medals Wednesday by narrowly beating Cuba #39;s '\n",
      "             'Yordani Despaigne to advance to the Olympic middleweight '\n",
      "             'semifinals.\\n'\n",
      "             '\\n'\n",
      "             'Category: Business\\n'\n",
      "             'News Article: US house sales fall in July Sales of non-new '\n",
      "             'houses in the US fell last month but still exceeded analyst '\n",
      "             'forecasts.\\n'\n",
      "             '\\n'\n",
      "             'Category: Sci/Tech\\n'\n",
      "             'News Article: Gartner optimistic about chip numbers But that '\n",
      "             'optimism isn #39;t matched by Infineon, which said that while '\n",
      "             'the market worldwide remains buoyant, the US is a special case '\n",
      "             'and cautioned that growth might not be as strong as it '\n",
      "             'expected.\\n'\n",
      "             '\\n'\n",
      "             'Now classify the following news article.\\n'\n",
      "             '\\n'\n",
      "             'News Article:\\n'\n",
      "             'Wall St. Bears Claw Back Into the Black (Reuters) Reuters - '\n",
      "             \"Short-sellers, Wall Street's dwindling\\\\band of ultra-cynics, \"\n",
      "             'are seeing green again.\\n',\n",
      "  'role': 'user'}]\n"
     ]
    }
   ],
   "source": [
    "# Example\n",
    "pprint(create_message(df_train.iloc[0]['text']))"
   ]
  },
  {
   "cell_type": "code",
   "execution_count": 9,
   "id": "b7d452d5",
   "metadata": {},
   "outputs": [
    {
     "data": {
      "application/vnd.jupyter.widget-view+json": {
       "model_id": "eacc1403fbc54b2d983d23ebd4b80fd7",
       "version_major": 2,
       "version_minor": 0
      },
      "text/plain": [
       "  0%|          | 0/7600 [00:00<?, ?it/s]"
      ]
     },
     "metadata": {},
     "output_type": "display_data"
    }
   ],
   "source": [
    "# PlaceHolders\n",
    "y_true, y_pred = [], []\n",
    "\n",
    "# Classification Loops\n",
    "for index, row in tqdm(df_test.iterrows(), total = df_test.shape[0]):\n",
    "    # Get Text and GT label\n",
    "    text = row['text']\n",
    "    gt_label = row['label_name']\n",
    "\n",
    "\n",
    "    # Call LLM\n",
    "    response = client.chat.completions.create(model = \"gemma3:12b\",\n",
    "                                              messages = create_message(text),\n",
    "                                              response_model = Category,\n",
    "                                              temperature = 0.01,\n",
    "                                              top_p = 0.98,\n",
    "                                              strict = True,\n",
    "                                              max_retries = 10)\n",
    "\n",
    "    # !! DEBUG Only Print Output\n",
    "    #print(resp.model_dump_json(indent=2))\n",
    "    #print(f\"GT Label: {gt_label}     Model Label: {resp.category}\")\n",
    "\n",
    "    # Store Predictions\n",
    "    y_true.append(gt_label)\n",
    "    y_pred.append(response.category)"
   ]
  },
  {
   "cell_type": "code",
   "execution_count": 10,
   "id": "29529f78",
   "metadata": {},
   "outputs": [
    {
     "name": "stdout",
     "output_type": "stream",
     "text": [
      "\n",
      "Overall accuracy: 85.03%\n",
      "Per-class accuracy:\n",
      "  World   : 89.16% (n=1900)\n",
      "  Sports  : 97.21% (n=1900)\n",
      "  Business: 90.11% (n=1900)\n",
      "  Sci/Tech: 63.63% (n=1900)\n"
     ]
    }
   ],
   "source": [
    "# Average and per Class Accuracy\n",
    "total = Counter(y_true)\n",
    "correct = Counter(t for t, p in zip(y_true, y_pred) if t == p)\n",
    "\n",
    "overall_acc = sum(correct.values()) / len(y_true)\n",
    "print(\"\\nOverall accuracy: {:.2%}\".format(overall_acc))\n",
    "\n",
    "print(\"Per-class accuracy:\")\n",
    "for c in class_names:\n",
    "    acc = correct[c] / total[c]\n",
    "    print(f\"  {c:8}: {acc:.2%} (n={total[c]})\")"
   ]
  },
  {
   "cell_type": "markdown",
   "id": "f1392825",
   "metadata": {},
   "source": [
    "## Conclusion\n",
    "\n",
    "When using Gemma3-12B as a classifier we achieve an average accuracy of 85%.\n",
    "\n"
   ]
  }
 ],
 "metadata": {
  "kernelspec": {
   "display_name": "slmllm",
   "language": "python",
   "name": "python3"
  },
  "language_info": {
   "codemirror_mode": {
    "name": "ipython",
    "version": 3
   },
   "file_extension": ".py",
   "mimetype": "text/x-python",
   "name": "python",
   "nbconvert_exporter": "python",
   "pygments_lexer": "ipython3",
   "version": "3.12.3"
  }
 },
 "nbformat": 4,
 "nbformat_minor": 5
}
